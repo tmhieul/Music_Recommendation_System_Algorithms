{
 "cells": [
  {
   "cell_type": "code",
   "execution_count": 1,
   "metadata": {},
   "outputs": [],
   "source": [
    "import ast\n",
    "import pandas as pd\n",
    "from sklearn.metrics.pairwise import cosine_similarity\n",
    "from sklearn.feature_extraction.text import TfidfVectorizer"
   ]
  },
  {
   "cell_type": "code",
   "execution_count": 2,
   "metadata": {},
   "outputs": [],
   "source": [
    "class SongRecommender:\n",
    "    def __init__(self, csv_file):\n",
    "        self.songs_df = pd.read_csv(csv_file)\n",
    "        self.tfidf_matrix = None\n",
    "        self.cosine_sim = None\n",
    "        self._prepare_data()\n",
    "\n",
    "    def _prepare_data(self):\n",
    "        def get_album_id(album_info):\n",
    "            album_dict = ast.literal_eval(album_info)\n",
    "            return album_dict['id'] if album_dict else None\n",
    "\n",
    "        self.songs_df['album_id'] = self.songs_df['album'].apply(get_album_id)\n",
    "        self.songs_df['combined_features'] = self.songs_df['artists'].astype(str) + \" \" + \\\n",
    "                                            self.songs_df['name'] + \" \" + \\\n",
    "                                            self.songs_df['album_id'] + \" \" + \\\n",
    "                                            self.songs_df['popularity'].astype(str)\n",
    "\n",
    "        tfidf_vectorizer = TfidfVectorizer()\n",
    "        self.tfidf_matrix = tfidf_vectorizer.fit_transform(self.songs_df['combined_features'])\n",
    "        self.cosine_sim = cosine_similarity(self.tfidf_matrix, self.tfidf_matrix)\n",
    "\n",
    "    def get_recommendations(self, song_id):\n",
    "        idx = self.songs_df.index[self.songs_df['id'] == song_id].tolist()[0]\n",
    "\n",
    "        sim_scores = list(enumerate(self.cosine_sim[idx]))\n",
    "\n",
    "        sim_scores = sorted(sim_scores, key=lambda x: x[1], reverse=True)\n",
    "\n",
    "        sim_scores = sim_scores[1:11]\n",
    "\n",
    "        song_indices = [i[0] for i in sim_scores]\n",
    "\n",
    "        # Return the top 10 most similar songs\n",
    "        return self.songs_df.iloc[song_indices][['id']]"
   ]
  },
  {
   "cell_type": "code",
   "execution_count": 4,
   "metadata": {},
   "outputs": [
    {
     "name": "stdout",
     "output_type": "stream",
     "text": [
      "                         id\n",
      "626  3NcNmCLJumUEWZkTtFfEOf\n",
      "608  1aoWhYhLgKc62N4yOaAttX\n",
      "311  1u7fCYYK4AaQFyhLF1rcnQ\n",
      "669  1u7fCYYK4AaQFyhLF1rcnQ\n",
      "768  1u7fCYYK4AaQFyhLF1rcnQ\n",
      "821  1u7fCYYK4AaQFyhLF1rcnQ\n",
      "598  5rYKt7WO2qIqPCxC44dTIM\n",
      "719  5rYKt7WO2qIqPCxC44dTIM\n",
      "128  3cvNHKzzFtJgmC1SyG7wI1\n",
      "297  3cvNHKzzFtJgmC1SyG7wI1\n"
     ]
    }
   ],
   "source": [
    "song_recommender = SongRecommender('./data/pop_songs.csv')\n",
    "song_id = '18HFH05MB3xeR8jSPiGVpG'\n",
    "recommended_songs = song_recommender.get_recommendations(song_id)\n",
    "print(recommended_songs)"
   ]
  }
 ],
 "metadata": {
  "kernelspec": {
   "display_name": "ds",
   "language": "python",
   "name": "python3"
  },
  "language_info": {
   "codemirror_mode": {
    "name": "ipython",
    "version": 3
   },
   "file_extension": ".py",
   "mimetype": "text/x-python",
   "name": "python",
   "nbconvert_exporter": "python",
   "pygments_lexer": "ipython3",
   "version": "3.12.1"
  }
 },
 "nbformat": 4,
 "nbformat_minor": 2
}
