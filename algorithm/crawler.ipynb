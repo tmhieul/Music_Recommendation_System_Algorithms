{
 "cells": [
  {
   "cell_type": "code",
   "execution_count": null,
   "metadata": {},
   "outputs": [],
   "source": [
    "import os\n",
    "import pandas as pd\n",
    "import random\n",
    "import string\n",
    "import spotipy\n",
    "from spotipy.oauth2 import SpotifyClientCredentials\n",
    "from dotenv import load_dotenv"
   ]
  },
  {
   "cell_type": "code",
   "execution_count": null,
   "metadata": {},
   "outputs": [],
   "source": [
    "class SpotifyAPI:\n",
    "    def __init__(self, client_id, client_secret):\n",
    "        self.client_credentials_manager = SpotifyClientCredentials(client_id=client_id, client_secret=client_secret)\n",
    "        self.sp = spotipy.Spotify(client_credentials_manager=self.client_credentials_manager)\n",
    "\n",
    "    def get_all_songs(self, genre, limit_per_request=50, total_limit=1000):\n",
    "        song_data = []\n",
    "        offset = 0\n",
    "        total_fetched = 0\n",
    "        while total_fetched < total_limit:\n",
    "            limit = min(limit_per_request, total_limit - total_fetched)\n",
    "            track_results = self.sp.search(q=f'genre:\"{genre}\"', type='track', limit=limit, offset=offset)\n",
    "            if not track_results['tracks']['items']:\n",
    "                break\n",
    "            for track in track_results['tracks']['items']:\n",
    "                song_data.append(track)\n",
    "                total_fetched += 1\n",
    "            offset += limit_per_request\n",
    "        return song_data\n",
    "\n",
    "    def get_cover_image(self, song_id):\n",
    "        track_info = self.sp.track(song_id)\n",
    "        if 'album' in track_info and 'images' in track_info['album'] and track_info['album']['images']:\n",
    "            return track_info['album']['images'][0]['url']\n",
    "        else:\n",
    "            return None"
   ]
  },
  {
   "cell_type": "code",
   "execution_count": null,
   "metadata": {},
   "outputs": [],
   "source": [
    "class DataGenerator:\n",
    "    def __init__(self, spotify_api, genre):\n",
    "        self.spotify_api = spotify_api\n",
    "        self.genre = genre\n",
    "\n",
    "    def generate_songs_dataframe(self):\n",
    "        songs = self.spotify_api.get_all_songs(self.genre)\n",
    "        songs_df = pd.DataFrame(songs)\n",
    "        songs_df['cover_url'] = songs_df['id'].apply(self.spotify_api.get_cover_image)\n",
    "        return songs_df\n",
    "\n",
    "    def generate_user_ratings(self, num_users, song_ids):\n",
    "        user_ids = [''.join(random.choices(string.ascii_uppercase + string.digits, k=6)) for _ in range(num_users)]\n",
    "        user_ratings = []\n",
    "        for user_id in user_ids:\n",
    "            for _ in range(random.randint(30, 50)):\n",
    "                song_id = random.choice(song_ids)\n",
    "                preference = random.choice([0, 1])\n",
    "                user_ratings.append([song_id, user_id, preference])\n",
    "        user_ratings_df = pd.DataFrame(user_ratings, columns=['song_id', 'user_id', 'preference'])\n",
    "        return user_ratings_df"
   ]
  },
  {
   "cell_type": "code",
   "execution_count": null,
   "metadata": {},
   "outputs": [],
   "source": [
    "load_dotenv()\n",
    "\n",
    "client_id = os.getenv('CLIENT_ID')\n",
    "client_secret = os.getenv('CLIENT_SECRET')"
   ]
  },
  {
   "cell_type": "code",
   "execution_count": null,
   "metadata": {},
   "outputs": [],
   "source": [
    "spotify_api = SpotifyAPI(client_id, client_secret)\n",
    "data_generator = DataGenerator(spotify_api, 'pop')\n",
    "\n",
    "# Generate songs dataframe and save it to CSV\n",
    "songs_df = data_generator.generate_songs_dataframe()\n",
    "songs_df.to_csv('./data/pop_songs.csv', index=False)"
   ]
  },
  {
   "cell_type": "code",
   "execution_count": null,
   "metadata": {},
   "outputs": [],
   "source": [
    "# Generate user ratings dataframe and save it to CSV\n",
    "song_ids = songs_df['id'].tolist()\n",
    "user_ratings_df = data_generator.generate_user_ratings(100, song_ids)\n",
    "user_ratings_df.to_csv('./data/user_ratings.csv', index=False)\n"
   ]
  }
 ],
 "metadata": {
  "language_info": {
   "name": "python"
  }
 },
 "nbformat": 4,
 "nbformat_minor": 2
}
